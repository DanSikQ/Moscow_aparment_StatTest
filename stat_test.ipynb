{
 "cells": [
  {
   "cell_type": "code",
   "id": "initial_id",
   "metadata": {
    "ExecuteTime": {
     "end_time": "2025-06-05T16:59:02.106021Z",
     "start_time": "2025-06-05T16:59:02.103498Z"
    }
   },
   "source": [
    "import pandas as pd\n",
    "import numpy as np\n",
    "import matplotlib.pyplot as plt\n",
    "import seaborn as sns\n",
    "from scipy.stats import shapiro, anderson\n",
    "import scipy"
   ],
   "outputs": [],
   "execution_count": 141
  },
  {
   "cell_type": "markdown",
   "id": "62519216e03260c5",
   "metadata": {},
   "source": [
    "Я наткнулся на новость, то что на момент октября 2020 года, цена на однокомнатную квартиру в Москве составляет 9,1 млн рублей https://1prime.ru/20201209/832537224.html, давайте проверим на самом деле, это так, c помощью статистических инструментов. "
   ]
  },
  {
   "cell_type": "code",
   "id": "9fac555d22bfee0",
   "metadata": {
    "ExecuteTime": {
     "end_time": "2025-06-05T16:59:05.580864Z",
     "start_time": "2025-06-05T16:59:02.130873Z"
    }
   },
   "source": [
    "price_russia = pd.read_csv('all_v2.csv')"
   ],
   "outputs": [],
   "execution_count": 142
  },
  {
   "cell_type": "markdown",
   "id": "b133f26808d2617",
   "metadata": {},
   "source": [
    "Датасет содержит основную информацию по объявлениям квартир в россии на промежутке 2018-2021 год\n",
    "\n",
    "В рамках исследования, нам нужно отфильтровать данные, чтобы условия совпадали с источником новости \n",
    "(Москва, август 2020 года, однокомнатная квартира)"
   ]
  },
  {
   "cell_type": "code",
   "id": "c4f6a3c4e5dc5e3d",
   "metadata": {
    "ExecuteTime": {
     "end_time": "2025-06-05T16:59:07.056112Z",
     "start_time": "2025-06-05T16:59:05.591092Z"
    }
   },
   "source": [
    "price_russia['date'] = price_russia['date'].astype('datetime64[ns]')\n",
    "price_russia_moscow = price_russia[(price_russia['region'] == 3) &\n",
    "(price_russia['date'].dt.year == 2020) &\n",
    "(price_russia['date'].dt.month == 10) &\n",
    "(price_russia['rooms'] == 1)]"
   ],
   "outputs": [],
   "execution_count": 143
  },
  {
   "cell_type": "markdown",
   "id": "6bd7e036ceba03e6",
   "metadata": {},
   "source": [
    "### Гипотеза 1 - Цены на однокомнатные квартиры в Москве, в авгусе 2020 года отличаются от заявленных 9.1 млн рублей. "
   ]
  },
  {
   "cell_type": "markdown",
   "id": "a5a32bcd5e35bc80",
   "metadata": {},
   "source": [
    "#### a) Вычисление точечных оценок"
   ]
  },
  {
   "cell_type": "code",
   "id": "c1282b5598328da",
   "metadata": {
    "ExecuteTime": {
     "end_time": "2025-06-05T16:59:07.069739Z",
     "start_time": "2025-06-05T16:59:07.066421Z"
    }
   },
   "source": [
    "# Для теста возьмём выборку размером 30\n",
    "n = 30\n",
    "sample = price_russia_moscow['price'].sample(n, random_state=1) # Выборка была отобрана с помощью случайного сэмплирования, где каждый элемент ГС, может с равной вероятностью попасть в выборку."
   ],
   "outputs": [],
   "execution_count": 144
  },
  {
   "cell_type": "code",
   "id": "3eaa7cc3eb1321a1",
   "metadata": {
    "ExecuteTime": {
     "end_time": "2025-06-05T16:59:07.086597Z",
     "start_time": "2025-06-05T16:59:07.081732Z"
    }
   },
   "source": [
    "# Посчитаем основные точечные оценки для случайной величины\n",
    "\n",
    "sample_mean = sample.mean()\n",
    "sample_var = sample.var(ddof=1) # ddof = 1 значит мы используем формулу дисперсии для выборки\n",
    "sample_std = sample.std(ddof = 1)\n",
    "sample_median = sample.median()\n",
    "sample_mode = sample.mode()\n",
    "sample_min = sample.min()\n",
    "sample_max = sample.max()\n",
    "\n",
    "print(f\"\"\"\n",
    "1. Описательные статистика для распределения цен на квартиры:\n",
    "   1. Среднее: {sample_mean:.2f}\n",
    "   2. Дисперсия: {sample_var:.2f}\n",
    "   3. Стандартное отклонение: {sample_std:.2f}\n",
    "   4. Медиана: {sample_median:.2f}\n",
    "   5. Мода: {sample_mode.values[0]}\n",
    "   6. Минимум: {sample_min}\n",
    "   7. Максимум: {sample_max}\n",
    "\"\"\")"
   ],
   "outputs": [
    {
     "name": "stdout",
     "output_type": "stream",
     "text": [
      "\n",
      "1. Описательные статистика для распределения цен на квартиры:\n",
      "   1. Среднее: 7948531.23\n",
      "   2. Дисперсия: 4046138236020.67\n",
      "   3. Стандартное отклонение: 2011501.49\n",
      "   4. Медиана: 8045560.00\n",
      "   5. Мода: 7000000\n",
      "   6. Минимум: 3300000\n",
      "   7. Максимум: 10992210\n",
      "\n"
     ]
    }
   ],
   "execution_count": 145
  },
  {
   "cell_type": "code",
   "id": "16f28415-2f09-456b-aafb-23ce9f2bc880",
   "metadata": {
    "ExecuteTime": {
     "end_time": "2025-06-05T17:05:36.335983Z",
     "start_time": "2025-06-05T17:05:36.259295Z"
    }
   },
   "source": [
    "# Распределение цен на квартиры\n",
    "plt.figure(figsize=(12, 5))\n",
    "sns.histplot(data=sample, bins = 10)\n",
    "plt.title('Распределение цен на квартиры')\n",
    "plt.xlabel('Цена')\n",
    "plt.ylabel('Частота')\n",
    "plt.show()"
   ],
   "outputs": [
    {
     "data": {
      "text/plain": [
       "<Figure size 1200x500 with 1 Axes>"
      ],
      "image/png": "[encoded data removed]"
     },
     "metadata": {},
     "output_type": "display_data"
    }
   ],
   "execution_count": 171
  },
  {
   "cell_type": "markdown",
   "id": "08a4d27a-eed6-4828-8e10-3edee73fcdfb",
   "metadata": {},
   "source": [
    "Основываясь на графике мы можем предположить, что цена имеет нормальное распределение.\n",
    "Но нужно провести дополнительный тест, который проверит распределение на нормальность и мы сможем уверенно работать с распределением как с нормальным, для этого воспользуемся тестом Шапиро-Уилка.\n",
    "\n",
    "**Тест Шапиро-Уилка** — это мощный статистический тест, используемый для проверки гипотезы о том, что случайная выборка данных взята из нормально распределенной популяции. Он особенно хорошо подходит для небольших и средних размеров выборки.\n",
    "\n",
    "Статистика теста Шапиро-Уилка определяется следующим образом:\n",
    "$$W = \\frac{\\left(\\sum_{i=1}^{n} a_i x_{(i)}\\right)^2}{\\sum_{i=1}^{n} (x_i - \\bar{x})^2} $$\n",
    "- $x_i$— i-й по величине элемент упорядоченной выборки.\n",
    " \n",
    "- $a_i$ — коэффициенты Шапиро-Уилка (веса) из таблицы.\n",
    " \n",
    "- $\\bar{x}$— выборочное среднее.\n",
    " \n",
    "- $n$— размер выборки.\n",
    "\n",
    "**Формулировка гипотез**\n",
    "\n",
    "$H_0$ - распределение цен на квартиру нормально\n",
    "\n",
    "$H_1$ - распределение не нормально\n",
    "\n",
    "При $\\alpha = 0.05$ \n",
    "\n",
    "Если $( p\\text{-value} < 0.05$, то $H_0$ отвергается)"
   ]
  },
  {
   "cell_type": "code",
   "id": "d0246eac-b825-4c8b-86bc-1800af942607",
   "metadata": {
    "ExecuteTime": {
     "end_time": "2025-06-05T17:01:22.825539Z",
     "start_time": "2025-06-05T17:01:22.821882Z"
    }
   },
   "source": [
    "a = 0.05\n",
    "p_value_for_price = shapiro(sample)\n",
    "print(f'p-value = {p_value_for_price[1]:.8f}')\n",
    "if p_value_for_price[1] > a:\n",
    "    print(f'p-value > 0.05 - нет статистических оснований отвергать нулевую гипотезу при уровне значимости {a}')\n",
    "else:\n",
    "    print(f'p-value < 0.05 - есть статистические основания отвергнуть нулевую гипотезу при уровне значимости {a}')"
   ],
   "outputs": [
    {
     "name": "stdout",
     "output_type": "stream",
     "text": [
      "p-value = 0.44175776\n",
      "p-value > 0.05 - нет статистических оснований отвергать нулевую гипотезу при уровне значимости 0.05\n"
     ]
    }
   ],
   "execution_count": 159
  },
  {
   "cell_type": "markdown",
   "id": "e115fc91-c583-4c79-b00f-2f9fcf6b2aa2",
   "metadata": {},
   "source": [
    "\n",
    "Значит мы можем утверждать, что\n",
    "\n",
    "X - Цена (Случайная величина)\n",
    "\n",
    "$X\\sim N(\\mu,\\sigma^2)$\n"
   ]
  },
  {
   "cell_type": "markdown",
   "id": "3e9ef29e-b842-4f56-9902-df556c578d77",
   "metadata": {},
   "source": [
    "**Метод Максимального Правдоподобия (ММП)** — это статистический метод оценки параметров распределения случайной величины, при котором выбираются такие значения параметров, при которых наблюдаемые данные наиболее вероятны.\n",
    "\n",
    "Если случайная величина имеет распределение нормальное, то по ММП взяв его логарифм и с помощью частных производных мы можем определить следующие оценки параметров нормального распределения\n",
    "\n",
    "$L(\\mu, \\sigma^2 | x_1, …, x_n) = \\prod_{i=1}^{n} f(x_i | \\mu, \\sigma^2) = \\prod_{i=1}^{n} \\frac{1}{\\sqrt{2\\pi\\sigma^2}} \\exp\\left(-\\frac{(x_i - \\mu)^2}{2\\sigma^2}\\right)$ \n",
    "\n",
    "1. **Оценка среднего**:\n",
    "   $$\n",
    "   \\frac{\\partial \\ln L}{\\partial \\mu} = \\frac{1}{\\sigma^2} \\sum_{i=1}^{n} (x_i - \\mu) = 0\n",
    "   $$\n",
    "\n",
    "   $$ \\hat{\\mu}_{ММП} = \\frac{1}{n} \\sum_{i=1}^{n} x_i = \\bar{x} $$\n",
    "\n",
    "2. **Оценка дисперсии**:\n",
    "\n",
    "    $$\\frac{\\partial \\ln L}{\\partial \\sigma^2} = -\\frac{n}{2\\sigma^2} + \\frac{1}{2(\\sigma^2)^2} \\sum_{i=1}^{n} (x_i - \\mu)^2 = 0$$\n",
    "   $$\n",
    "   \\hat{\\sigma}^2_{\\text{ММП}} = \\frac{1}{n} \\sum_{i=1}^{n} (x_i - \\bar{x})^2\n",
    "   $$\n",
    "\n",
    "Эти оценки ММП являются “лучшими” в том смысле, что они максимизируют функцию правдоподобия, и, при достаточной выборке, обладают хорошими статистическими свойствами.\n",
    "\n",
    "Оценка дисперсии $\\hat{\\sigma}^2_{\\text{ММП}}$ **смещённая**, но **состоятельная** (при $n \\to \\infty $) смещение стремится к 0\n",
    "   "
   ]
  },
  {
   "cell_type": "code",
   "id": "0bc3484d-29d6-439b-bfba-2ff3c0c5061e",
   "metadata": {
    "ExecuteTime": {
     "end_time": "2025-06-05T16:59:07.205938Z",
     "start_time": "2025-06-05T16:59:07.202740Z"
    }
   },
   "source": [
    "mmp_mean = sample_mean \n",
    "mmp_var = sample.var(ddof = 0)  # Используется смещённая формула дисперсии\n",
    "print(f\"ММП-оценка среднего: {mmp_mean:.2f}\")\n",
    "print(f\"ММП-оценка дисперсии: {mmp_var:.2f}\")"
   ],
   "outputs": [
    {
     "name": "stdout",
     "output_type": "stream",
     "text": [
      "ММП-оценка среднего: 7948531.23\n",
      "ММП-оценка дисперсии: 3911266961486.65\n"
     ]
    }
   ],
   "execution_count": 148
  },
  {
   "cell_type": "markdown",
   "id": "03c4e127-2710-40c0-bf7d-6ae886333494",
   "metadata": {},
   "source": [
    "Также стоит проверить эффективность оценки дисперсии. Это можно сделать с помощью неравенства Рао-Крамера \n",
    "\n",
    "*Неравенство Рао-Крамера (Rao-Cramér Inequality), также известное как граница Рао-Крамера, предоставляет фундаментальное ограничение на точность любой несмещенной оценки параметра. Оно устанавливает нижнюю границу для дисперсии любой несмещенной оценки, что позволяет определить, насколько “хороша” оценка.*\n",
    "\n",
    "**Проверим на эффективность смещённую оценку дисперсии**\n",
    "\n",
    "**1. Определение оценки**\n",
    "   $$\n",
    "   \\hat{\\sigma}^2_{\\text{ММП}} = \\frac{1}{n} \\sum_{i=1}^{n} (x_i - \\bar{x})^2\n",
    "   $$\n",
    "**2. Вычисление информации Фишера**\n",
    "\n",
    "$$\n",
    "I(\\theta) = -E\\left[ \\frac{\\partial^2}{\\partial \\theta^2} \\ln L(\\theta | X) \\right]\n",
    "$$\n",
    "\n",
    "$$\n",
    "\\ln L(\\mu, \\sigma^2 | X) = -\\frac{n}{2}\\ln(2\\pi) - \\frac{n}{2}\\ln(\\sigma^2) - \\frac{1}{2\\sigma^2} \\sum_{i=1}^{n} (x_i - \\mu)^2\n",
    "$$\n",
    "\n",
    "- Первая производная по $\\sigma$:\n",
    "    $$\\frac{\\partial \\ln L}{\\partial \\sigma^2} = -\\frac{n}{2\\sigma^2} + \\frac{1}{2(\\sigma^2)^2} \\sum_{i=1}^{n} (x_i - \\mu)^2$$\n",
    "\n",
    "- Вторая производная по  $\\sigma$:\n",
    "    $$\\frac{\\partial^2 \\ln L}{\\partial (\\sigma^2)^2} = \\frac{n}{2(\\sigma^2)^2} - \\frac{1}{(\\sigma^2)^3} \\sum_{i=1}^{n} (x_i - \\mu)^2 $$\n",
    "\n",
    "- Берём - Мат ожидание от выражения и получаем\n",
    "$$I(\\sigma^2) = -\\left[ \\frac{n}{2σ^4} - \\frac{n}{σ^4} \\right] = -\\left[ -\\frac{n}{2σ^4} \\right] = \\frac{n}{2σ^4}$$\n",
    "\n",
    "**3. Вычисление дисперсии**\n",
    "$$Var(\\hat{\\sigma}^2_{ММП}) = \\frac{2\\sigma^4}{n} $$\n",
    "\n",
    "**4. Сравнение с нижней границей Рао-Крамера**\n",
    "\n",
    "Нижняя граница Рао-Крамера для дисперсии оценки:\n",
    "\n",
    "$$ \\frac{1}{I(\\sigma^2)} = \\frac{1}{\\frac{n}{2\\sigma^4}} = \\frac{2\\sigma^4}{n} $$\n",
    "\n",
    "Мы видим, что $Var(\\hat{\\sigma}^2_{ММП}) = \\frac{2\\sigma^4}{n}$ , что в точности равно нижней границе Рао-Крамера.\n",
    "\n",
    "**5. Вывод**\n",
    "Вывод: ММП оценка для дисперсии достигает нижней границы Рао-Крамера, что делает ее эффективной."
   ]
  },
  {
   "cell_type": "markdown",
   "id": "cedd8938-a1b1-43f3-8840-0c7529cff16d",
   "metadata": {},
   "source": [
    "#### b) Построение доверительных интервалов "
   ]
  },
  {
   "cell_type": "markdown",
   "id": "655ab1f2-3f58-49d0-9f51-59e9ca9b43d8",
   "metadata": {},
   "source": [
    "Построим 95% доверительный интервал, для наших параметров. Начнём с $\\mu$\n",
    "Так как выборку мы выбрали не большую n >= 30, для нахождения доверительного интервала мы воспользуемся t-статистикой с 29 степенями свободы.\n",
    "\n",
    "Тогда формула для доверительного интервала будет такая:\n",
    "$$\n",
    "\\bar{x} \\pm t_{\\alpha/2, \\, n-1} \\cdot \\frac{s}{\\sqrt{n}},\n",
    "$$\n",
    "где:\n",
    "- $\\bar{x}$ — выборочное среднее,\n",
    "- $t_{\\alpha/2, \\, n-1}$ — критическое значение t-распределения,\n",
    "- $s$ — выборочное стандартное отклонение,\n",
    "- $n$ — размер выборки.\n"
   ]
  },
  {
   "cell_type": "code",
   "id": "deaac453-77f2-44de-936b-c46348cdf1b8",
   "metadata": {
    "ExecuteTime": {
     "end_time": "2025-06-05T16:59:07.225031Z",
     "start_time": "2025-06-05T16:59:07.221205Z"
    }
   },
   "source": [
    "alpha = 0.05\n",
    "t_stat = scipy.stats.t.ppf(1 - alpha / 2, df = n - 1) # 29 степеней свободы\n",
    "\n",
    "t_lower = sample_mean - t_stat * sample_std/np.sqrt(n)\n",
    "t_upper = sample_mean + t_stat * sample_std/np.sqrt(n)\n",
    "print(f'Доверительный интервал для матожидания цены [{t_lower:.0f}, {t_upper:.0f}] рублей')"
   ],
   "outputs": [
    {
     "name": "stdout",
     "output_type": "stream",
     "text": [
      "Доверительный интервал для матожидания цены [7197424, 8699638] рублей\n"
     ]
    }
   ],
   "execution_count": 149
  },
  {
   "cell_type": "markdown",
   "id": "dbf57ca9-6749-4f25-aeaa-3d21791e87c3",
   "metadata": {},
   "source": [
    "Теперь 95% доверительный интервал для $\\sigma$\n",
    "$$\n",
    "\\left[ \\frac{(n-1)s^2}{\\chi^2_{\\alpha/2, \\, n-1}}, \\quad \\frac{(n-1)s^2}{\\chi^2_{1-\\alpha/2, \\, n-1}} \\right],\n",
    "$$\n",
    "где:\n",
    "- $ n$ — размер выборки,\n",
    "- $s^2$ — выборочная дисперсия,\n",
    "- $\\chi^2_{\\alpha/2, \\, n-1}$ и $\\chi^2_{1-\\alpha/2, \\, n-1}$ — критические значения χ²-распределения."
   ]
  },
  {
   "cell_type": "code",
   "id": "278b6cee-d7dc-443f-8f00-c0b3abe56e5e",
   "metadata": {
    "ExecuteTime": {
     "end_time": "2025-06-05T16:59:07.256930Z",
     "start_time": "2025-06-05T16:59:07.252753Z"
    }
   },
   "source": [
    "alpha = 0.05\n",
    "xi_lower = scipy.stats.chi2.ppf(1 - alpha / 2, df = n - 1)\n",
    "xi_upper = scipy.stats.chi2.ppf(alpha / 2, df = n - 1)\n",
    "\n",
    "xi_lower_stat = ((n - 1) * sample_std)/ xi_lower\n",
    "xi_upper_stat = ((n - 1) * sample_std)/ xi_upper\n",
    "\n",
    "print(f'Доверительный интервал для стандартного отклонения цены [{xi_lower_stat:.0f}, {xi_upper_stat:.0f}] рублей')"
   ],
   "outputs": [
    {
     "name": "stdout",
     "output_type": "stream",
     "text": [
      "Доверительный интервал для стандартного отклонения цены [1275823, 3635152] рублей\n"
     ]
    }
   ],
   "execution_count": 150
  },
  {
   "cell_type": "markdown",
   "id": "36747d6d-5695-4788-8c41-dfad4732be22",
   "metadata": {},
   "source": [
    "#### с) Проверка статистических гипотез\n",
    "Проверим отличается ли цены на однокомнатные квартиры в Москве, в авгусе 2020 года от заявленных 9.1 млн рублей при уровне значимости $\\alpha = 0.05$\n",
    "\n",
    "$H_0 - \\mu_{\\text{цена на квартиры в москве}} = 9.1$ млн рублей\n",
    "\n",
    "$H_1 - \\mu_{\\text{цена на квартиры в москве}}\\neq 9.1$ млн рублей \n",
    "\n",
    "$$\\bar{X} \\sim N(\\mu, \\frac{s^2}{n})$$\n",
    "\n",
    "$$SE = \\frac{s}{\\sqrt n}$$\n",
    "\n",
    "$$T = \\frac{\\bar{X} - \\mu}{\\frac{s}{\\sqrt n}} \\sim t(n-1)$$"
   ]
  },
  {
   "cell_type": "code",
   "id": "74102ffe-cedd-4fbe-a77b-2953cb9da531",
   "metadata": {
    "ExecuteTime": {
     "end_time": "2025-06-05T17:01:00.511393Z",
     "start_time": "2025-06-05T17:01:00.507072Z"
    }
   },
   "source": [
    "alpha = 0.05\n",
    "SE = sample_std/np.sqrt(n)\n",
    "T = (sample_mean - 9100000)/SE\n",
    "t_stat = scipy.stats.t.ppf(1 - alpha / 2, df = n - 1) # 29 степеней свободы\n",
    "\n",
    "p_value = 2 * (1 - scipy.stats.t.cdf(abs(T), df=n-1))\n",
    "\n",
    "\n",
    "print(\"T-статистика:\", T)\n",
    "print(\"Критическое значение t-статистики:\", t_stat)\n",
    "print(\"p-значение:\", p_value)\n",
    "\n",
    "\n",
    "if p_value < alpha:\n",
    "    print(f'p-value < 0.05 - есть статистические основания отвергнуть нулевую гипотезу при уровне значимости {a}')\n",
    "else:\n",
    "    print(f'p-value > 0.05 - нет статистических оснований отвергать нулевую гипотезу при уровне значимости {a}')"
   ],
   "outputs": [
    {
     "name": "stdout",
     "output_type": "stream",
     "text": [
      "T-статистика: -3.135396227865011\n",
      "Критическое значение t-статистики: 2.045229642132703\n",
      "p-значение: 0.003911567440712416\n",
      "p-value < 0.05 - есть статистические основания отвергнуть нулевую гипотезу при уровне значимости 0.05\n"
     ]
    }
   ],
   "execution_count": 157
  },
  {
   "cell_type": "markdown",
   "id": "a1966af1-f32c-474f-9cc4-935ac2bf1886",
   "metadata": {},
   "source": [
    "\n",
    "\n",
    "p-value > 0.05. **Нет статистической значимости отвергнуть $H_0$ при уровне значимости 0.05**"
   ]
  },
  {
   "cell_type": "code",
   "id": "87e9078f-0b8d-44f0-bdec-58744d2b45fa",
   "metadata": {
    "ExecuteTime": {
     "end_time": "2025-06-05T16:59:07.464220Z",
     "start_time": "2025-06-05T16:59:07.370670Z"
    }
   },
   "source": [
    "plt.figure(figsize = (10,7))\n",
    "sns.histplot(sample, bins = 15)\n",
    "plt.axvline(t_lower, color = 'red', label=f'95% ДИ: [{t_lower:.1f}, {t_upper:.1f}]')\n",
    "plt.axvline(sample_mean, label = f'Среднее: {sample_mean:.0f}')\n",
    "plt.axvline(t_upper, color = 'red')\n",
    "plt.xlabel('Цена')\n",
    "plt.ylabel('Частота')\n",
    "plt.title('Гистограмма распределения для цен на квартиру с доверительным интервалом 95%')\n",
    "plt.legend()\n",
    "plt.show()"
   ],
   "outputs": [
    {
     "data": {
      "text/plain": [
       "<Figure size 1000x700 with 1 Axes>"
      ],
      "image/png": "[encoded data removed]"
     },
     "metadata": {},
     "output_type": "display_data"
    }
   ],
   "execution_count": 152
  },
  {
   "cell_type": "code",
   "id": "6a7833fb-a422-4829-8cb4-e04789d11435",
   "metadata": {
    "ExecuteTime": {
     "end_time": "2025-06-05T16:59:07.527951Z",
     "start_time": "2025-06-05T16:59:07.474482Z"
    }
   },
   "source": [
    "plt.figure(figsize = (10,7))\n",
    "sns.boxplot(sample, orient  = 'h')\n",
    "plt.axvline(t_lower, color = 'red', label=f'95% ДИ: [{t_lower:.1f}, {t_upper:.1f}]')\n",
    "plt.axvline(t_upper, color = 'red')\n",
    "plt.xlabel('Цена')\n",
    "plt.grid()\n",
    "plt.legend()\n",
    "plt.show()"
   ],
   "outputs": [
    {
     "data": {
      "text/plain": [
       "<Figure size 1000x700 with 1 Axes>"
      ],
      "image/png": "[encoded data removed]"
     },
     "metadata": {},
     "output_type": "display_data"
    }
   ],
   "execution_count": 153
  },
  {
   "cell_type": "markdown",
   "id": "05dae23d-7107-4e73-b5dc-52a5feaea196",
   "metadata": {},
   "source": [
    "## Гипотеза 2 Отличаются ли стоимость квартиры построенных из монолита и построенных из кирпича в Москве"
   ]
  },
  {
   "cell_type": "code",
   "id": "85db49e5-b4fc-4742-92e9-ddde98bce1dd",
   "metadata": {
    "ExecuteTime": {
     "end_time": "2025-06-05T16:59:07.544210Z",
     "start_time": "2025-06-05T16:59:07.536935Z"
    }
   },
   "source": [
    "n = 30\n",
    "\n",
    "price_brick = price_russia_moscow.query('building_type == 3')['price'].sample(int(n/2), random_state = 42)\n",
    "price_monolith = price_russia_moscow.query('building_type == 2')['price'].sample(int(n/2), random_state = 42)\n",
    "    "
   ],
   "outputs": [],
   "execution_count": 154
  },
  {
   "cell_type": "code",
   "id": "ac5808da-c92d-4ba4-b73f-3a9aa8d5662d",
   "metadata": {
    "ExecuteTime": {
     "end_time": "2025-06-05T17:02:44.596532Z",
     "start_time": "2025-06-05T17:02:44.590825Z"
    }
   },
   "source": [
    "\n",
    "brick_mean = price_brick.mean()\n",
    "brick_var = price_brick.var(ddof=1) # ddof = 1 значит мы используем формулу дисперсии для выборки\n",
    "brick_std = price_brick.std(ddof = 1)\n",
    "brick_median = price_brick.median()\n",
    "brick_mode = price_brick.mode()\n",
    "brick_min = price_brick.min()\n",
    "brick_max = price_brick.max()\n",
    "\n",
    "print(f\"\"\"\n",
    "1. Описательные статистики для распределения цен на квартиры из кирпича:\n",
    "   1. Среднее: {brick_mean:.2f}\n",
    "   2. Дисперсия: {brick_var:.2f}\n",
    "   3. Стандартное отклонение: {brick_std:.2f}\n",
    "   4. Медиана: {brick_median:.2f}\n",
    "   5. Мода: {brick_mode.values[0]}\n",
    "   6. Минимум: {brick_min}\n",
    "   7. Максимум: {brick_max}\n",
    "\"\"\")\n",
    "\n",
    "monolith_mean = price_monolith.mean()\n",
    "monolith_var = price_monolith.var(ddof=1) # ddof = 1 значит мы используем формулу дисперсии для выборки\n",
    "monolith_std = price_monolith.std(ddof = 1)\n",
    "monolith_median = price_monolith.median()\n",
    "monolith_mode = price_monolith.mode()\n",
    "monolith_min = price_monolith.min()\n",
    "monolith_max = price_monolith.max()\n",
    "\n",
    "print(f\"\"\"\n",
    "2. Описательные статистики для распределения цен на квартиры из монолита:\n",
    "   1. Среднее: {monolith_mean:.2f}\n",
    "   2. Дисперсия: {monolith_var:.2f}\n",
    "   3. Стандартное отклонение: {monolith_std:.2f}\n",
    "   4. Медиана: {monolith_median:.2f}\n",
    "   5. Мода: {monolith_mode.values[0]}\n",
    "   6. Минимум: {monolith_min}\n",
    "   7. Максимум: {monolith_max}\n",
    "\"\"\")"
   ],
   "outputs": [
    {
     "name": "stdout",
     "output_type": "stream",
     "text": [
      "\n",
      "1. Описательные статистики для распределения цен на квартиры из кирпича:\n",
      "   1. Среднее: 8120088.00\n",
      "   2. Дисперсия: 8406947591588.57\n",
      "   3. Стандартное отклонение: 2899473.67\n",
      "   4. Медиана: 7900000.00\n",
      "   5. Мода: 3750000\n",
      "   6. Минимум: 3750000\n",
      "   7. Максимум: 13800000\n",
      "\n",
      "\n",
      "2. Описательные статистики для распределения цен на квартиры из монолита:\n",
      "   1. Среднее: 9390385.67\n",
      "   2. Дисперсия: 13695965598410.24\n",
      "   3. Стандартное отклонение: 3700806.07\n",
      "   4. Медиана: 9139910.00\n",
      "   5. Мода: 6032000\n",
      "   6. Минимум: 5577190\n",
      "   7. Максимум: 18005000\n",
      "\n"
     ]
    }
   ],
   "execution_count": 160
  },
  {
   "metadata": {
    "ExecuteTime": {
     "end_time": "2025-06-05T17:06:00.943526Z",
     "start_time": "2025-06-05T17:06:00.866941Z"
    }
   },
   "cell_type": "code",
   "source": [
    "plt.figure(figsize=(12, 5))\n",
    "sns.histplot(data=price_brick, bins = 7)\n",
    "plt.title('Распределение цен на квартиры из кирпича')\n",
    "plt.xlabel('Цена')\n",
    "plt.ylabel('Частота')\n",
    "plt.show()"
   ],
   "id": "c44babe9779f138d",
   "outputs": [
    {
     "data": {
      "text/plain": [
       "<Figure size 1200x500 with 1 Axes>"
      ],
      "image/png": "[encoded data removed]"
     },
     "metadata": {},
     "output_type": "display_data"
    }
   ],
   "execution_count": 174
  },
  {
   "cell_type": "code",
   "id": "bd59f013-208c-4fa6-90dd-05c5231975ab",
   "metadata": {
    "ExecuteTime": {
     "end_time": "2025-06-05T17:04:00.600716Z",
     "start_time": "2025-06-05T17:04:00.597134Z"
    }
   },
   "source": [
    "a = 0.05\n",
    "p_value_for_price_brick = shapiro(price_brick)\n",
    "print(f'p-value = {p_value_for_price_brick[1]:.8f}')\n",
    "if p_value_for_price[1] > a:\n",
    "    print(f'p-value > 0.05 - нет статистических оснований отвергать нулевую гипотезу при уровне значимости {a}')\n",
    "else:\n",
    "    print(f'p-value < 0.05 - есть статистические основания отвергнуть нулевую гипотезу при уровне значимости {a}')"
   ],
   "outputs": [
    {
     "name": "stdout",
     "output_type": "stream",
     "text": [
      "p-value = 0.78227420\n",
      "p-value > 0.05 - нет статистических оснований отвергать нулевую гипотезу при уровне значимости 0.05\n"
     ]
    }
   ],
   "execution_count": 161
  },
  {
   "cell_type": "code",
   "id": "a436c20d-0f74-4741-b1dc-7efd3a1bc802",
   "metadata": {
    "ExecuteTime": {
     "end_time": "2025-06-05T16:59:07.584971Z",
     "start_time": "2025-06-05T16:59:07.582452Z"
    }
   },
   "source": [
    "a = 0.05\n",
    "p_value_for_price = shapiro(sample)\n",
    "print(f'p-value = {p_value_for_price[1]:.8f}')\n",
    "if p_value_for_price[1] > a:\n",
    "    print(f'p-value > 0.05 - нет статистических оснований отвергать нулевую гипотезу при уровне значимости {a}')\n",
    "else:\n",
    "    print(f'p-value < 0.05 - есть статистические основания отвергнуть нулевую гипотезу при уровне значимости {a}')"
   ],
   "outputs": [],
   "execution_count": null
  }
 ],
 "metadata": {
  "kernelspec": {
   "display_name": "Python 3 (ipykernel)",
   "language": "python",
   "name": "python3"
  },
  "language_info": {
   "codemirror_mode": {
    "name": "ipython",
    "version": 3
   },
   "file_extension": ".py",
   "mimetype": "text/x-python",
   "name": "python",
   "nbconvert_exporter": "python",
   "pygments_lexer": "ipython3",
   "version": "3.12.4"
  }
 },
 "nbformat": 4,
 "nbformat_minor": 5
}
